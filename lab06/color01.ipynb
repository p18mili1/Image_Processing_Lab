{
 "cells": [
  {
   "cell_type": "code",
   "execution_count": null,
   "metadata": {},
   "outputs": [],
   "source": [
    "import numpy as np\n",
    "from PIL import Image\n",
    "import matplotlib\n",
    "import matplotlib.pyplot as plt\n",
    "\n",
    "%matplotlib inline\n",
    "\n",
    "im1 = Image.open('parrot-rgb.jpg')\n",
    "im1.show()\n",
    "a = np.array(im1)\n",
    "print(a.shape)\n",
    "h_r = np.histogram(a[:,:,0],bins=256)\n",
    "fig1 = plt.figure()\n",
    "plt.plot(h_r[0]) \n",
    "plt.imshow(a)"
   ]
  },
  {
   "cell_type": "code",
   "execution_count": null,
   "metadata": {},
   "outputs": [],
   "source": [
    "h_g = np.histogram(a[:,:,1],bins=256)\n",
    "fig2 = plt.figure()\n",
    "plt.plot(h_g[0])"
   ]
  },
  {
   "cell_type": "code",
   "execution_count": null,
   "metadata": {},
   "outputs": [],
   "source": [
    "h_b = np.histogram(a[:,:,2],bins=256)\n",
    "fig3 = plt.figure()\n",
    "plt.plot(h_b[0])"
   ]
  },
  {
   "cell_type": "code",
   "execution_count": null,
   "metadata": {},
   "outputs": [],
   "source": [
    "b = np.copy(a)\n",
    "for x in range(a.shape[0]):\n",
    "    for y in range(a.shape[1]):\n",
    "        b[x,y,2] = a[x,y,2] * 1.3\n",
    "        b[x,y,0] = a[x,y,0] * 0.8\n",
    "        b[x,y,1] = a[x,y,1] * 0.9\n",
    "        if b[x,y,1] > 255:\n",
    "            b[x,y,1] = 255\n",
    "        if b[x,y,2] > 255:\n",
    "            b[x,y,2] = 255\n",
    "plt.imshow(b, cmap='gray', vmin=0, vmax=255)\n"
   ]
  },
  {
   "cell_type": "code",
   "execution_count": null,
   "metadata": {},
   "outputs": [],
   "source": []
  }
 ],
 "metadata": {
  "kernelspec": {
   "display_name": "Python 3",
   "language": "python",
   "name": "python3"
  },
  "language_info": {
   "codemirror_mode": {
    "name": "ipython",
    "version": 3
   },
   "file_extension": ".py",
   "mimetype": "text/x-python",
   "name": "python",
   "nbconvert_exporter": "python",
   "pygments_lexer": "ipython3",
   "version": "3.7.6"
  }
 },
 "nbformat": 4,
 "nbformat_minor": 4
}
