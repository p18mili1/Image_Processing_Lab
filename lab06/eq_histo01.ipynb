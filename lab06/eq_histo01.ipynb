{
 "cells": [
  {
   "cell_type": "code",
   "execution_count": null,
   "metadata": {},
   "outputs": [],
   "source": [
    "import numpy as np\n",
    "from skimage import io\n",
    "from skimage import data\n",
    "import matplotlib.pyplot as plt\n",
    "\n",
    "%matplotlib inline\n",
    "\n",
    "a = io.imread('False01_gray.jpg')\n",
    "#print(a.shape)\n",
    "plt.imshow(a , cmap='gray', vmin=0, vmax=255)\n",
    "h = np.histogram(a,bins=256)\n",
    "#print(h[0])\n",
    "cdf_a = np.zeros(256)\n",
    "for i in range(256):\n",
    "    cdf_a[i] = cdf_a[i-1] + h[0][i]\n",
    "#print(cdf_a)\n",
    "fig1 = plt.figure()\n",
    "plt.plot(h[0]) \n",
    "plt.savefig('False01_grayh.png')\n",
    "fig2 = plt.figure()\n",
    "plt.plot(cdf_a)"
   ]
  },
  {
   "cell_type": "code",
   "execution_count": null,
   "metadata": {},
   "outputs": [],
   "source": [
    "b = np.zeros(a.shape , dtype = np.uint8)\n",
    "t = 255/(a.shape[0]*a.shape[1])\n",
    "for x in range(a.shape[0]):\n",
    "    for y in range(a.shape[1]):\n",
    "        b[x][y] = cdf_a[a[x][y]] * t\n",
    "fig3 = plt.figure()\n",
    "plt.imshow(b, cmap='gray', vmin=0, vmax=255)\n",
    "plt.savefig('False01_gray_eq.jpg')\n"
   ]
  },
  {
   "cell_type": "code",
   "execution_count": null,
   "metadata": {},
   "outputs": [],
   "source": [
    "io.imsave('False01_gray_eq1.jpg',b)"
   ]
  },
  {
   "cell_type": "code",
   "execution_count": null,
   "metadata": {},
   "outputs": [],
   "source": [
    "h_b = np.histogram(b,bins=256)\n",
    "fig4 = plt.figure()\n",
    "plt.plot(h_b[0])\n",
    "plt.savefig('False01_gray_eqh.png')"
   ]
  },
  {
   "cell_type": "code",
   "execution_count": null,
   "metadata": {},
   "outputs": [],
   "source": []
  }
 ],
 "metadata": {
  "kernelspec": {
   "display_name": "Python 3",
   "language": "python",
   "name": "python3"
  },
  "language_info": {
   "codemirror_mode": {
    "name": "ipython",
    "version": 3
   },
   "file_extension": ".py",
   "mimetype": "text/x-python",
   "name": "python",
   "nbconvert_exporter": "python",
   "pygments_lexer": "ipython3",
   "version": "3.7.4"
  }
 },
 "nbformat": 4,
 "nbformat_minor": 2
}
