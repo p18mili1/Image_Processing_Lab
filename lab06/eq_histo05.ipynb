{
 "cells": [
  {
   "cell_type": "code",
   "execution_count": null,
   "metadata": {},
   "outputs": [],
   "source": [
    "import numpy as np\n",
    "from PIL import Image\n",
    "import matplotlib\n",
    "import matplotlib.pyplot as plt\n",
    "\n",
    "%matplotlib inline\n",
    "\n",
    "im1 = Image.open('False01_gray.jpg')\n",
    "a = np.array(im1)#[:,:,0]\n",
    "print(a.shape)\n",
    "im1.show()\n",
    "h = np.histogram(a,bins=256)\n",
    "cdf_a = np.zeros(256)\n",
    "for i in range(256):\n",
    "    cdf_a[i] = cdf_a[i-1] + h[0][i]\n",
    "fig1 = plt.figure()\n",
    "plt.plot(h[0]) \n",
    "#plt.savefig('low-contrast-04h.png')\n",
    "fig2 = plt.figure()\n",
    "plt.plot(cdf_a)\n",
    "print(cdf_a[:10])"
   ]
  },
  {
   "cell_type": "code",
   "execution_count": null,
   "metadata": {},
   "outputs": [],
   "source": [
    "print(cdf_a[10:30])\n",
    "b = np.zeros(a.shape, dtype = np.uint8)\n",
    "t = 255/((b.shape[0]*b.shape[1])-cdf_a[26])\n",
    "for x in range(b.shape[0]):\n",
    "    for y in range(b.shape[1]):\n",
    "        b[x][y] = (cdf_a[a[x][y]] - cdf_a[26])* t\n",
    "im2 = Image.fromarray(b,mode = 'L')\n",
    "im2.show()\n",
    "im2.save('False-01a.jpg')"
   ]
  },
  {
   "cell_type": "code",
   "execution_count": null,
   "metadata": {},
   "outputs": [],
   "source": [
    "h_b = np.histogram(b,bins=256)\n",
    "fig4 = plt.figure()\n",
    "plt.plot(h_b[0])\n",
    "plt.savefig('False_01ah.png')"
   ]
  },
  {
   "cell_type": "code",
   "execution_count": null,
   "metadata": {},
   "outputs": [],
   "source": []
  }
 ],
 "metadata": {
  "kernelspec": {
   "display_name": "Python 3",
   "language": "python",
   "name": "python3"
  },
  "language_info": {
   "codemirror_mode": {
    "name": "ipython",
    "version": 3
   },
   "file_extension": ".py",
   "mimetype": "text/x-python",
   "name": "python",
   "nbconvert_exporter": "python",
   "pygments_lexer": "ipython3",
   "version": "3.7.4"
  }
 },
 "nbformat": 4,
 "nbformat_minor": 2
}
