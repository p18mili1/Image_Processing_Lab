{
 "cells": [
  {
   "cell_type": "code",
   "execution_count": null,
   "metadata": {},
   "outputs": [],
   "source": [
    "import numpy as np\n",
    "from PIL import Image\n",
    "import matplotlib\n",
    "import matplotlib.pyplot as plt\n",
    "\n",
    "%matplotlib inline\n",
    "\n",
    "im1 = Image.open('low-contrast-04g.jpg')\n",
    "a = np.array(im1)\n",
    "plt.imshow(a, cmap='gray', vmin=0, vmax=255)\n",
    "h_a = np.histogram(a,bins=256)\n",
    "p_a = h_a[0] / (a.shape[0] * a.shape[1])\n",
    "m_a = 0\n",
    "for i in range(256):\n",
    "    m_a += i * p_a[i]\n",
    "s = 0\n",
    "for i in range(256):\n",
    "    s += ((i - m_a)**2) * p_a[i]\n",
    "print(s)"
   ]
  },
  {
   "cell_type": "code",
   "execution_count": null,
   "metadata": {},
   "outputs": [],
   "source": [
    "b = np.zeros(a.shape, dtype = np.uint8)\n",
    "for x in range(1,a.shape[0]-1):\n",
    "    for y in range(1,a.shape[1]-1):\n",
    "        ms = np.mean(a[x-1:x+2,y-1:y+2])\n",
    "        if 0.1*m_a < ms < 5*m_a:\n",
    "            b[x][y] = a[x][y] * 5\n",
    "            if b[x][y] > 255:\n",
    "                b[x][y] = 255\n",
    "        else:\n",
    "            b[x][y] = a[x][y]\n",
    "b[x,y,2] = a[x,y,2] * 2"
   ]
  },
  {
   "cell_type": "code",
   "execution_count": null,
   "metadata": {},
   "outputs": [],
   "source": []
  },
  {
   "cell_type": "code",
   "execution_count": null,
   "metadata": {},
   "outputs": [],
   "source": []
  }
 ],
 "metadata": {
  "kernelspec": {
   "display_name": "Python 3",
   "language": "python",
   "name": "python3"
  },
  "language_info": {
   "codemirror_mode": {
    "name": "ipython",
    "version": 3
   },
   "file_extension": ".py",
   "mimetype": "text/x-python",
   "name": "python",
   "nbconvert_exporter": "python",
   "pygments_lexer": "ipython3",
   "version": "3.7.6"
  }
 },
 "nbformat": 4,
 "nbformat_minor": 4
}
