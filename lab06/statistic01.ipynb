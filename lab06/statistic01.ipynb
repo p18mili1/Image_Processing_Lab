{
 "cells": [
  {
   "cell_type": "code",
   "execution_count": null,
   "metadata": {},
   "outputs": [],
   "source": [
    "import numpy as np\n",
    "from PIL import Image\n",
    "import matplotlib\n",
    "import matplotlib.pyplot as plt\n",
    "\n",
    "%matplotlib inline\n",
    "\n",
    "im1 = Image.open('low-contrast-03g.jpg')\n",
    "fig1 = plt.figure()\n",
    "plt.imshow(im1, cmap='gray', vmin=0, vmax=255)\n",
    "a = np.array(im1)\n",
    "print(a[100][100])\n",
    "b = (a * 0.8).astype(int)\n",
    "print(b[100][100])\n",
    "fig2 = plt.figure()\n",
    "plt.imshow(b, cmap='gray', vmin=0, vmax=255)"
   ]
  },
  {
   "cell_type": "code",
   "execution_count": null,
   "metadata": {},
   "outputs": [],
   "source": [
    "h_a = np.histogram(a,bins=256)\n",
    "p_a = h_a[0] / (a.shape[0] * a.shape[1])\n",
    "h_b = np.histogram(b,bins=256)\n",
    "p_b = h_b[0] / (b.shape[0] * b.shape[1])\n",
    "m_a = 0\n",
    "m_b = 0\n",
    "for i in range(256):\n",
    "    m_a += i * p_a[i]\n",
    "    m_b += i * p_b[i]\n",
    "print(m_a)\n",
    "print(m_b)"
   ]
  },
  {
   "cell_type": "code",
   "execution_count": null,
   "metadata": {},
   "outputs": [],
   "source": [
    "c = np.zeros(a.shape, dtype = np.uint8)\n",
    "for x in range(a.shape[0]):\n",
    "    for y in range(a.shape[1]):\n",
    "        if a[x][y] < m_a:\n",
    "            c[x][y] = int(a[x][y]*0.95)\n",
    "        else:\n",
    "            c[x][y] = int(a[x][y]*0.8)\n",
    "fig2 = plt.figure()\n",
    "plt.imshow(c, cmap='gray', vmin=0, vmax=255)\n"
   ]
  },
  {
   "cell_type": "code",
   "execution_count": null,
   "metadata": {},
   "outputs": [],
   "source": [
    "im3 = Image.fromarray(c)\n",
    "im3.show()"
   ]
  },
  {
   "cell_type": "code",
   "execution_count": null,
   "metadata": {},
   "outputs": [],
   "source": [
    "h_c = np.histogram(c,bins=256)\n",
    "cdf_c = np.zeros(256)\n",
    "for i in range(256):\n",
    "    cdf_c[i] = cdf_c[i-1] + h_c[0][i]\n",
    "d = np.zeros(a.shape , dtype = np.uint8)\n",
    "t = 255/(a.shape[0]*a.shape[1])\n",
    "for x in range(a.shape[0]):\n",
    "    for y in range(a.shape[1]):\n",
    "        d[x][y] = cdf_c[c[x][y]] * t\n",
    "fig3 = plt.figure()\n",
    "plt.imshow(d, cmap='gray', vmin=0, vmax=255)"
   ]
  },
  {
   "cell_type": "code",
   "execution_count": null,
   "metadata": {},
   "outputs": [],
   "source": [
    "im3 = Image.fromarray(c)\n",
    "im3.show()"
   ]
  },
  {
   "cell_type": "code",
   "execution_count": null,
   "metadata": {},
   "outputs": [],
   "source": []
  }
 ],
 "metadata": {
  "kernelspec": {
   "display_name": "Python 3",
   "language": "python",
   "name": "python3"
  },
  "language_info": {
   "codemirror_mode": {
    "name": "ipython",
    "version": 3
   },
   "file_extension": ".py",
   "mimetype": "text/x-python",
   "name": "python",
   "nbconvert_exporter": "python",
   "pygments_lexer": "ipython3",
   "version": "3.7.6"
  }
 },
 "nbformat": 4,
 "nbformat_minor": 4
}
