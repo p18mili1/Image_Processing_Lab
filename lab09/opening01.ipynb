{
 "cells": [
  {
   "cell_type": "code",
   "execution_count": null,
   "metadata": {},
   "outputs": [],
   "source": [
    "from PIL import Image\n",
    "import numpy as np\n",
    "import matplotlib.pyplot as plt\n",
    "\n",
    "%matplotlib inline\n",
    "\n",
    "im1 = Image.open('image5.png')\n",
    "a = np.array(im1)\n",
    "se = np.array([[1,1,1],[1,1,1],[1,1,1]])\n",
    "plt.imshow(a, cmap='gray', vmin=0, vmax=255)"
   ]
  },
  {
   "cell_type": "code",
   "execution_count": null,
   "metadata": {},
   "outputs": [],
   "source": [
    "def erosion(ar,se):\n",
    "    e = True\n",
    "    for x in range(se.shape[0]):\n",
    "        for y in range(se.shape[1]):\n",
    "            if se[x,y] == 1 and ar[x,y] == 0:\n",
    "                e = False\n",
    "    return e"
   ]
  },
  {
   "cell_type": "code",
   "execution_count": null,
   "metadata": {},
   "outputs": [],
   "source": [
    "def dilation(ar,se):\n",
    "    e = False\n",
    "    for x in range(se.shape[0]):\n",
    "        for y in range(se.shape[1]):\n",
    "            if se[x,y] == 1 and ar[x,y] > 0:\n",
    "                e = True\n",
    "    return e"
   ]
  },
  {
   "cell_type": "code",
   "execution_count": null,
   "metadata": {},
   "outputs": [],
   "source": [
    "c = np.zeros((a.shape[0]+2,a.shape[1]+2))\n",
    "d = np.zeros(a.shape)\n",
    "c[1:-1,1:-1] = a\n",
    "for x in range(1,c.shape[0]-1):\n",
    "    for y in range(1,c.shape[1]-1):\n",
    "        if erosion(c[x-1:x+2,y-1:y+2],se) :\n",
    "            d[x-1,y-1] = 255\n",
    "        else:\n",
    "            d[x-1,y-1] = 0\n",
    "c = np.zeros((a.shape[0]+2,a.shape[1]+2))\n",
    "o = np.zeros(a.shape)\n",
    "c[1:-1,1:-1] = a\n",
    "for x in range(1,c.shape[0]-1):\n",
    "    for y in range(1,c.shape[1]-1):\n",
    "        if dilation(c[x-1:x+2,y-1:y+2],se) :\n",
    "            o[x-1,y-1] = 255\n",
    "        else:\n",
    "            o[x-1,y-1] = 0\n",
    "o = o.astype(np.uint8)\n",
    "plt.imshow(o, cmap='gray', vmin=0, vmax=255)\n",
    "im2 = Image.fromarray(o)\n",
    "im2.save('image5_open.png')"
   ]
  },
  {
   "cell_type": "code",
   "execution_count": null,
   "metadata": {},
   "outputs": [],
   "source": []
  }
 ],
 "metadata": {
  "kernelspec": {
   "display_name": "Python 3",
   "language": "python",
   "name": "python3"
  },
  "language_info": {
   "codemirror_mode": {
    "name": "ipython",
    "version": 3
   },
   "file_extension": ".py",
   "mimetype": "text/x-python",
   "name": "python",
   "nbconvert_exporter": "python",
   "pygments_lexer": "ipython3",
   "version": "3.7.4"
  }
 },
 "nbformat": 4,
 "nbformat_minor": 2
}
