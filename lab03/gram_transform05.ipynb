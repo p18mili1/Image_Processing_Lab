{
 "cells": [
  {
   "cell_type": "code",
   "execution_count": null,
   "metadata": {},
   "outputs": [],
   "source": [
    "import matplotlib\n",
    "import matplotlib.pyplot as plt\n",
    "from PIL import Image\n",
    "import math"
   ]
  },
  {
   "cell_type": "code",
   "execution_count": null,
   "metadata": {},
   "outputs": [],
   "source": [
    "def func(x,a,b,c,s1):\n",
    "    if x < a or x > b:\n",
    "        y = c * x\n",
    "    else:\n",
    "        y = s1\n",
    "    return  int(y)"
   ]
  },
  {
   "cell_type": "code",
   "execution_count": null,
   "metadata": {},
   "outputs": [],
   "source": [
    "a = []\n",
    "x = list(range(256))\n",
    "for i in x:\n",
    "    a.append(func(i,100,150,1,200))\n",
    "plt.plot(x,a)"
   ]
  },
  {
   "cell_type": "code",
   "execution_count": null,
   "metadata": {},
   "outputs": [],
   "source": [
    "a = 100\n",
    "b = 150\n",
    "c = 1\n",
    "s1 = 200\n",
    "im1 = Image.open('labrador_gray.jpg')\n",
    "im2 = Image.new('L',(im1.size[0],im1.size[1]))\n",
    "for i in range(im1.size[0]):\n",
    "    for j in range(im1.size[1]):\n",
    "        s = im1.getpixel((i,j))\n",
    "        im2.putpixel((i,j),func(s,a,b,c,s1))\n",
    "im1.show()\n",
    "im2.show()"
   ]
  }
 ],
 "metadata": {
  "kernelspec": {
   "display_name": "Python 3",
   "language": "python",
   "name": "python3"
  },
  "language_info": {
   "codemirror_mode": {
    "name": "ipython",
    "version": 3
   },
   "file_extension": ".py",
   "mimetype": "text/x-python",
   "name": "python",
   "nbconvert_exporter": "python",
   "pygments_lexer": "ipython3",
   "version": "3.7.4"
  }
 },
 "nbformat": 4,
 "nbformat_minor": 2
}
