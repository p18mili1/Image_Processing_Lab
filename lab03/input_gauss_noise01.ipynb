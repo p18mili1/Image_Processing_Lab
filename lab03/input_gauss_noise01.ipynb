{
 "cells": [
  {
   "cell_type": "code",
   "execution_count": 1,
   "metadata": {},
   "outputs": [],
   "source": [
    "from PIL import Image\n",
    "import numpy as np\n",
    "\n",
    "im1 = Image.open('labrador_gray.jpg')\n",
    "data = np.asarray(im1)"
   ]
  },
  {
   "cell_type": "code",
   "execution_count": 2,
   "metadata": {},
   "outputs": [],
   "source": [
    "mean = 50.0   # some constant\n",
    "std = 25.0    # some constant (standard deviation)\n",
    "noisy_img = data + np.random.normal(mean, std, data.shape)\n",
    "noisy_img_clipped = np.clip(noisy_img, 0, 255)\n",
    "im1_g_noise = Image.fromarray(noisy_img)\n",
    "im1_g_noise.show()"
   ]
  },
  {
   "cell_type": "code",
   "execution_count": null,
   "metadata": {},
   "outputs": [],
   "source": []
  }
 ],
 "metadata": {
  "kernelspec": {
   "display_name": "Python 3",
   "language": "python",
   "name": "python3"
  },
  "language_info": {
   "codemirror_mode": {
    "name": "ipython",
    "version": 3
   },
   "file_extension": ".py",
   "mimetype": "text/x-python",
   "name": "python",
   "nbconvert_exporter": "python",
   "pygments_lexer": "ipython3",
   "version": "3.7.4"
  }
 },
 "nbformat": 4,
 "nbformat_minor": 2
}
