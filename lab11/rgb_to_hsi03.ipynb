{
 "cells": [
  {
   "cell_type": "code",
   "execution_count": null,
   "metadata": {},
   "outputs": [],
   "source": [
    "from PIL import Image\n",
    "import matplotlib.pyplot as plt\n",
    "import numpy as np\n",
    "\n",
    "%matplotlib inline\n",
    "\n",
    "im1  = Image.open('image1.jpg')\n",
    "rgb = np.array(im1)\n",
    "np.save('image1_rgb',rgb)\n",
    "rgb = rgb / 255\n",
    "print(rgb.shape)\n",
    "plt.imshow(rgb)\n",
    "hsi = np.zeros(rgb.shape)"
   ]
  },
  {
   "cell_type": "code",
   "execution_count": null,
   "metadata": {},
   "outputs": [],
   "source": [
    "def hue(rgb):\n",
    "    h = np.zeros((rgb.shape[0],rgb.shape[1]))\n",
    "    for x in range(rgb.shape[0]):\n",
    "        for y in range(rgb.shape[1]):\n",
    "            r,g,b = rgb[x,y,0],rgb[x,y,1],rgb[x,y,2]\n",
    "            ar = 0.5 * ((r-b) + (r-g))\n",
    "            par = ((r-g)**2 + (r-b)*(g-b))**0.5\n",
    "            theta = np.arccos(np.deg2rad(ar / (par + 0.0001)))\n",
    "            if b > g:\n",
    "                theta = (2 * np.pi) - theta\n",
    "            h[x,y] = theta\n",
    "    return h"
   ]
  },
  {
   "cell_type": "code",
   "execution_count": null,
   "metadata": {},
   "outputs": [],
   "source": [
    "hsi[:,:,0] = hue(rgb)\n",
    "plt.imshow(hsi[:,:,0], cmap='gray', vmin=0, vmax=6.3)"
   ]
  },
  {
   "cell_type": "code",
   "execution_count": null,
   "metadata": {},
   "outputs": [],
   "source": [
    "def saturation(rgb):\n",
    "    s = np.zeros((rgb.shape[0],rgb.shape[1]))\n",
    "    for x in range(rgb.shape[0]):\n",
    "        for y in range(rgb.shape[1]):\n",
    "            r,g,b = rgb[x,y,0],rgb[x,y,1],rgb[x,y,2]\n",
    "            s[x,y] = 1 - ((3 * min(r,g,b)) / (r + g + b + 0.0001))\n",
    "    return s"
   ]
  },
  {
   "cell_type": "code",
   "execution_count": null,
   "metadata": {},
   "outputs": [],
   "source": [
    "hsi[:,:,1] = saturation(rgb)\n",
    "plt.imshow(hsi[:,:,1], cmap='gray', vmin=0, vmax=1)"
   ]
  },
  {
   "cell_type": "code",
   "execution_count": null,
   "metadata": {},
   "outputs": [],
   "source": [
    "def intensity(rgb):\n",
    "    return (rgb[:,:,0]+rgb[:,:,1]+rgb[:,:,2]) / 3"
   ]
  },
  {
   "cell_type": "code",
   "execution_count": null,
   "metadata": {},
   "outputs": [],
   "source": [
    "hsi[:,:,2] = intensity(rgb)\n",
    "plt.imshow(hsi[:,:,2], cmap='gray', vmin=0, vmax=1)"
   ]
  },
  {
   "cell_type": "code",
   "execution_count": null,
   "metadata": {},
   "outputs": [],
   "source": [
    "np.save('image1_hsi',hsi)"
   ]
  },
  {
   "cell_type": "code",
   "execution_count": null,
   "metadata": {},
   "outputs": [],
   "source": [
    "print()"
   ]
  }
 ],
 "metadata": {
  "kernelspec": {
   "display_name": "Python 3",
   "language": "python",
   "name": "python3"
  },
  "language_info": {
   "codemirror_mode": {
    "name": "ipython",
    "version": 3
   },
   "file_extension": ".py",
   "mimetype": "text/x-python",
   "name": "python",
   "nbconvert_exporter": "python",
   "pygments_lexer": "ipython3",
   "version": "3.7.4"
  }
 },
 "nbformat": 4,
 "nbformat_minor": 4
}
