{
 "cells": [
  {
   "cell_type": "code",
   "execution_count": null,
   "metadata": {},
   "outputs": [],
   "source": [
    "import matplotlib.pyplot as plt\n",
    "import numpy as np\n",
    "\n",
    "with open('image1_hsi.npy', 'rb') as f:\n",
    "    hsi = np.load(f)\n",
    "print(hsi.shape)"
   ]
  },
  {
   "cell_type": "code",
   "execution_count": null,
   "metadata": {},
   "outputs": [],
   "source": [
    "def hsi_rgb(hsi):\n",
    "    h,s,i = hsi[0],hsi[1],hsi[2]\n",
    "    a1 = i * (1 - s)\n",
    "    a2 = i * (1 + ((s * np.cos(h)) / np.cos((np.pi/3)-h)))\n",
    "    a3 = 3 * i - (a1 + a2)\n",
    "    if h < (2 * np.pi) / 3:\n",
    "        r,g,b = a2, a3, a1\n",
    "    elif h < (4 * np.pi) / 3:\n",
    "        r,g,b = a1, a2, a3\n",
    "    else:\n",
    "        b,r,g = a3, a1, a2\n",
    "    return [r,g,b]"
   ]
  },
  {
   "cell_type": "code",
   "execution_count": null,
   "metadata": {},
   "outputs": [],
   "source": [
    "rgb = np.zeros(hsi.shape)\n",
    "for x in range(rgb.shape[0]):\n",
    "    for y in range(rgb.shape[1]):\n",
    "        rgb[x,y,:] = hsi_rgb(hsi[x,y,:])\n",
    "rgb = rgb * 255\n",
    "rgb = rgb.astype(np.uint8)\n",
    "plt.imshow(rgb, cmap='gray', vmin=0, vmax=255)"
   ]
  },
  {
   "cell_type": "code",
   "execution_count": null,
   "metadata": {},
   "outputs": [],
   "source": [
    "with open('image1_rgb.npy', 'rb') as f:\n",
    "    rgb2 = np.load(f)\n",
    "print(rgb2[0,0,:],' - >',rgb[0,0,:])\n",
    "print(rgb2[175,0,:],' - >',rgb[175,0,:])\n",
    "print(rgb2[137,48,:],' - >',rgb[137,48,:])"
   ]
  },
  {
   "cell_type": "code",
   "execution_count": null,
   "metadata": {},
   "outputs": [],
   "source": []
  }
 ],
 "metadata": {
  "kernelspec": {
   "display_name": "Python 3",
   "language": "python",
   "name": "python3"
  },
  "language_info": {
   "codemirror_mode": {
    "name": "ipython",
    "version": 3
   },
   "file_extension": ".py",
   "mimetype": "text/x-python",
   "name": "python",
   "nbconvert_exporter": "python",
   "pygments_lexer": "ipython3",
   "version": "3.7.4"
  }
 },
 "nbformat": 4,
 "nbformat_minor": 4
}
