{
 "cells": [
  {
   "cell_type": "code",
   "execution_count": null,
   "metadata": {},
   "outputs": [],
   "source": [
    "import numpy as np\n",
    "import matplotlib.pyplot as plt\n",
    "\n",
    "a = np.array([[1,1,1,1,1],[1,0,0,0,0],[1,1,1,0,0],[1,0,0,0,0],[1,0,0,0,0]])\n",
    "t = np.array([[0,-1,-1],[1,0,0],[0,0,1]])\n",
    "lx,ly = a.shape\n",
    "print(lx,ly)\n",
    "plt.imshow(a , cmap='gray', vmin=0, vmax=1)\n",
    "#plt.savefig('turn_test0.png')\n",
    "b = np.zeros((ly,lx), dtype=np.int16 )\n",
    "b.shape\n",
    "print(b[0][0])"
   ]
  },
  {
   "cell_type": "code",
   "execution_count": null,
   "metadata": {},
   "outputs": [],
   "source": [
    "for x in range(lx):\n",
    "    for y in range(ly):\n",
    "        axy = np.array([[x],[y],[1]])\n",
    "        bxy = t @ axy\n",
    "#        print(x,y,bxy)\n",
    "        b[int(bxy[0][0]),int(bxy[1][0])] = a[x][y]\n",
    "#print(b)\n",
    "plt.imshow(b , cmap='gray', vmin=0, vmax=1)\n",
    "#plt.savefig('turn_test1.png')"
   ]
  },
  {
   "cell_type": "code",
   "execution_count": null,
   "metadata": {},
   "outputs": [],
   "source": []
  }
 ],
 "metadata": {
  "kernelspec": {
   "display_name": "Python 3",
   "language": "python",
   "name": "python3"
  },
  "language_info": {
   "codemirror_mode": {
    "name": "ipython",
    "version": 3
   },
   "file_extension": ".py",
   "mimetype": "text/x-python",
   "name": "python",
   "nbconvert_exporter": "python",
   "pygments_lexer": "ipython3",
   "version": "3.7.4"
  }
 },
 "nbformat": 4,
 "nbformat_minor": 4
}
