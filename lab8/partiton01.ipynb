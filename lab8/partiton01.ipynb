{
 "cells": [
  {
   "cell_type": "code",
   "execution_count": null,
   "metadata": {},
   "outputs": [],
   "source": [
    "from PIL import Image\n",
    "import numpy as np\n",
    "import matplotlib.pyplot as plt\n",
    "\n",
    "%matplotlib inline\n",
    "\n",
    "im1 = Image.open('im1.jpg')\n",
    "a = np.array(im1)\n",
    "print(a.shape)\n",
    "plt.imshow(a, cmap='gray', vmin=0, vmax=255)"
   ]
  },
  {
   "cell_type": "code",
   "execution_count": null,
   "metadata": {},
   "outputs": [],
   "source": [
    "def pdf(ar):\n",
    "    unique, counts = np.unique(ar, return_counts=True)\n",
    "    p = dict(zip(unique, counts))\n",
    "    total = ar.shape[0] * ar.shape[1]\n",
    "    for i in p.keys():\n",
    "        p[i] = p[i] / total\n",
    "    return p"
   ]
  },
  {
   "cell_type": "code",
   "execution_count": null,
   "metadata": {},
   "outputs": [],
   "source": [
    "def h(im):\n",
    "    p = pdf(im)\n",
    "    h = 0\n",
    "    for i in p.keys():\n",
    "        h -= p[i] * np.log2(p[i])\n",
    "    return h"
   ]
  },
  {
   "cell_type": "code",
   "execution_count": null,
   "metadata": {},
   "outputs": [],
   "source": [
    "print('Όλη η εικόνα Η = ',h(a))\n",
    "a1 = a[:a.shape[0]//4,:a.shape[1]//4]\n",
    "plt.imshow(a1 , cmap='gray', vmin=0, vmax=255)\n",
    "print('1ο τμήμα Η = ',h(a1))\n",
    "print(np.amax(a1), '-', np.amin(a1))"
   ]
  },
  {
   "cell_type": "code",
   "execution_count": null,
   "metadata": {},
   "outputs": [],
   "source": [
    "a2 = a[a.shape[0]//4:a.shape[0]//2,:a.shape[1]//4]\n",
    "plt.imshow(a2 , cmap='gray', vmin=0, vmax=255)\n",
    "print('2ο τμήμα Η = ',h(a2))\n",
    "print(np.amax(a2), '-', np.amin(a2))"
   ]
  },
  {
   "cell_type": "code",
   "execution_count": null,
   "metadata": {},
   "outputs": [],
   "source": [
    "a3 = a[a.shape[0]//2:(3*a.shape[0])//4,:a.shape[1]//4]\n",
    "plt.imshow(a3 , cmap='gray', vmin=0, vmax=255)\n",
    "print('3ο τμήμα Η = ',h(a3))\n",
    "print(np.amax(a3), '-', np.amin(a3))"
   ]
  },
  {
   "cell_type": "code",
   "execution_count": null,
   "metadata": {},
   "outputs": [],
   "source": [
    "a4 = a[(3*a.shape[0])//4:,:a.shape[1]//4]\n",
    "plt.imshow(a4 , cmap='gray', vmin=0, vmax=255)\n",
    "print('4ο τμήμα Η = ',h(a4))\n",
    "print(np.amax(a4), '-', np.amin(a4))"
   ]
  },
  {
   "cell_type": "code",
   "execution_count": null,
   "metadata": {},
   "outputs": [],
   "source": []
  }
 ],
 "metadata": {
  "kernelspec": {
   "display_name": "Python 3",
   "language": "python",
   "name": "python3"
  },
  "language_info": {
   "codemirror_mode": {
    "name": "ipython",
    "version": 3
   },
   "file_extension": ".py",
   "mimetype": "text/x-python",
   "name": "python",
   "nbconvert_exporter": "python",
   "pygments_lexer": "ipython3",
   "version": "3.7.4"
  }
 },
 "nbformat": 4,
 "nbformat_minor": 4
}
